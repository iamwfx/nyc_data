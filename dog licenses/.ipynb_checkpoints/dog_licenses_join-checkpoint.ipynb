{
 "cells": [
  {
   "cell_type": "markdown",
   "metadata": {},
   "source": [
    "# Dog License Data Processing"
   ]
  },
  {
   "cell_type": "code",
   "execution_count": 2,
   "metadata": {},
   "outputs": [],
   "source": [
    "import pandas as pd\n",
    "import cartoframes"
   ]
  },
  {
   "cell_type": "code",
   "execution_count": 3,
   "metadata": {
    "collapsed": true
   },
   "outputs": [],
   "source": [
    "cc = cartoframes.CartoContext()"
   ]
  },
  {
   "cell_type": "code",
   "execution_count": 4,
   "metadata": {},
   "outputs": [],
   "source": [
    "dog_licenses = pd.read_csv(\"NYC_Dog_Licensing_Dataset.csv\")"
   ]
  },
  {
   "cell_type": "code",
   "execution_count": 11,
   "metadata": {},
   "outputs": [
    {
     "data": {
      "text/html": [
       "<div>\n",
       "<style scoped>\n",
       "    .dataframe tbody tr th:only-of-type {\n",
       "        vertical-align: middle;\n",
       "    }\n",
       "\n",
       "    .dataframe tbody tr th {\n",
       "        vertical-align: top;\n",
       "    }\n",
       "\n",
       "    .dataframe thead th {\n",
       "        text-align: right;\n",
       "    }\n",
       "</style>\n",
       "<table border=\"1\" class=\"dataframe\">\n",
       "  <thead>\n",
       "    <tr style=\"text-align: right;\">\n",
       "      <th></th>\n",
       "      <th>RowNumber</th>\n",
       "      <th>AnimalName</th>\n",
       "      <th>AnimalGender</th>\n",
       "      <th>AnimalBirthMonth</th>\n",
       "      <th>BreedName</th>\n",
       "      <th>Borough</th>\n",
       "      <th>ZipCode</th>\n",
       "      <th>CommunityDistrict</th>\n",
       "      <th>CensusTract2010</th>\n",
       "      <th>NTA</th>\n",
       "      <th>CityCouncilDistrict</th>\n",
       "      <th>CongressionalDistrict</th>\n",
       "      <th>StateSenatorialDistrict</th>\n",
       "      <th>LicenseIssuedDate</th>\n",
       "      <th>LicenseExpiredDate</th>\n",
       "    </tr>\n",
       "  </thead>\n",
       "  <tbody>\n",
       "    <tr>\n",
       "      <th>0</th>\n",
       "      <td>1753</td>\n",
       "      <td>SHADOW</td>\n",
       "      <td>M</td>\n",
       "      <td>01/01/2000 12:00:00 AM</td>\n",
       "      <td>Beagle</td>\n",
       "      <td>Brooklyn</td>\n",
       "      <td>11236.0</td>\n",
       "      <td>318.0</td>\n",
       "      <td>1014.0</td>\n",
       "      <td>BK50</td>\n",
       "      <td>46.0</td>\n",
       "      <td>8.0</td>\n",
       "      <td>19.0</td>\n",
       "      <td>12/29/2014</td>\n",
       "      <td>01/30/2016</td>\n",
       "    </tr>\n",
       "    <tr>\n",
       "      <th>1</th>\n",
       "      <td>2415</td>\n",
       "      <td>ROCCO</td>\n",
       "      <td>M</td>\n",
       "      <td>10/01/2011 12:00:00 AM</td>\n",
       "      <td>Boxer</td>\n",
       "      <td>Brooklyn</td>\n",
       "      <td>11210.0</td>\n",
       "      <td>314.0</td>\n",
       "      <td>756.0</td>\n",
       "      <td>BK43</td>\n",
       "      <td>45.0</td>\n",
       "      <td>9.0</td>\n",
       "      <td>17.0</td>\n",
       "      <td>01/07/2015</td>\n",
       "      <td>01/30/2016</td>\n",
       "    </tr>\n",
       "    <tr>\n",
       "      <th>2</th>\n",
       "      <td>3328</td>\n",
       "      <td>LUIGI</td>\n",
       "      <td>M</td>\n",
       "      <td>09/01/2005 12:00:00 AM</td>\n",
       "      <td>Maltese</td>\n",
       "      <td>Bronx</td>\n",
       "      <td>10464.0</td>\n",
       "      <td>210.0</td>\n",
       "      <td>516.0</td>\n",
       "      <td>BX10</td>\n",
       "      <td>13.0</td>\n",
       "      <td>14.0</td>\n",
       "      <td>34.0</td>\n",
       "      <td>01/17/2015</td>\n",
       "      <td>02/02/2016</td>\n",
       "    </tr>\n",
       "    <tr>\n",
       "      <th>3</th>\n",
       "      <td>7537</td>\n",
       "      <td>PETUNIA</td>\n",
       "      <td>F</td>\n",
       "      <td>08/01/2013 12:00:00 AM</td>\n",
       "      <td>Pug</td>\n",
       "      <td>Brooklyn</td>\n",
       "      <td>11221.0</td>\n",
       "      <td>304.0</td>\n",
       "      <td>419.0</td>\n",
       "      <td>BK78</td>\n",
       "      <td>34.0</td>\n",
       "      <td>7.0</td>\n",
       "      <td>18.0</td>\n",
       "      <td>03/01/2015</td>\n",
       "      <td>03/28/2016</td>\n",
       "    </tr>\n",
       "    <tr>\n",
       "      <th>4</th>\n",
       "      <td>8487</td>\n",
       "      <td>ROMEO</td>\n",
       "      <td>M</td>\n",
       "      <td>10/01/2008 12:00:00 AM</td>\n",
       "      <td>Maltese</td>\n",
       "      <td>Bronx</td>\n",
       "      <td>10451.0</td>\n",
       "      <td>201.0</td>\n",
       "      <td>65.0</td>\n",
       "      <td>BX34</td>\n",
       "      <td>17.0</td>\n",
       "      <td>15.0</td>\n",
       "      <td>32.0</td>\n",
       "      <td>03/09/2015</td>\n",
       "      <td>03/09/2016</td>\n",
       "    </tr>\n",
       "  </tbody>\n",
       "</table>\n",
       "</div>"
      ],
      "text/plain": [
       "   RowNumber AnimalName AnimalGender        AnimalBirthMonth BreedName  \\\n",
       "0       1753    SHADOW             M  01/01/2000 12:00:00 AM    Beagle   \n",
       "1       2415      ROCCO            M  10/01/2011 12:00:00 AM     Boxer   \n",
       "2       3328      LUIGI            M  09/01/2005 12:00:00 AM   Maltese   \n",
       "3       7537    PETUNIA            F  08/01/2013 12:00:00 AM       Pug   \n",
       "4       8487      ROMEO            M  10/01/2008 12:00:00 AM   Maltese   \n",
       "\n",
       "    Borough  ZipCode  CommunityDistrict  CensusTract2010   NTA  \\\n",
       "0  Brooklyn  11236.0              318.0           1014.0  BK50   \n",
       "1  Brooklyn  11210.0              314.0            756.0  BK43   \n",
       "2     Bronx  10464.0              210.0            516.0  BX10   \n",
       "3  Brooklyn  11221.0              304.0            419.0  BK78   \n",
       "4     Bronx  10451.0              201.0             65.0  BX34   \n",
       "\n",
       "   CityCouncilDistrict  CongressionalDistrict  StateSenatorialDistrict  \\\n",
       "0                 46.0                    8.0                     19.0   \n",
       "1                 45.0                    9.0                     17.0   \n",
       "2                 13.0                   14.0                     34.0   \n",
       "3                 34.0                    7.0                     18.0   \n",
       "4                 17.0                   15.0                     32.0   \n",
       "\n",
       "  LicenseIssuedDate LicenseExpiredDate  \n",
       "0        12/29/2014         01/30/2016  \n",
       "1        01/07/2015         01/30/2016  \n",
       "2        01/17/2015         02/02/2016  \n",
       "3        03/01/2015         03/28/2016  \n",
       "4        03/09/2015         03/09/2016  "
      ]
     },
     "execution_count": 11,
     "metadata": {},
     "output_type": "execute_result"
    }
   ],
   "source": [
    "dog_licenses.head()"
   ]
  },
  {
   "cell_type": "code",
   "execution_count": 10,
   "metadata": {
    "scrolled": true
   },
   "outputs": [
    {
     "name": "stdout",
     "output_type": "stream",
     "text": [
      "The following columns were changed in the CARTO copy of this dataframe:\n",
      "\u001b[1mRowNumber\u001b[0m -> \u001b[1mrownumber\u001b[0m\n",
      "\u001b[1mAnimalName\u001b[0m -> \u001b[1manimalname\u001b[0m\n",
      "\u001b[1mAnimalGender\u001b[0m -> \u001b[1manimalgender\u001b[0m\n",
      "\u001b[1mAnimalBirthMonth\u001b[0m -> \u001b[1manimalbirthmonth\u001b[0m\n",
      "\u001b[1mBreedName\u001b[0m -> \u001b[1mbreedname\u001b[0m\n",
      "\u001b[1mBorough\u001b[0m -> \u001b[1mborough\u001b[0m\n",
      "\u001b[1mZipCode\u001b[0m -> \u001b[1mzipcode\u001b[0m\n",
      "\u001b[1mCommunityDistrict\u001b[0m -> \u001b[1mcommunitydistrict\u001b[0m\n",
      "\u001b[1mCensusTract2010\u001b[0m -> \u001b[1mcensustract2010\u001b[0m\n",
      "\u001b[1mNTA\u001b[0m -> \u001b[1mnta\u001b[0m\n",
      "\u001b[1mCityCouncilDistrict\u001b[0m -> \u001b[1mcitycouncildistrict\u001b[0m\n",
      "\u001b[1mCongressionalDistrict\u001b[0m -> \u001b[1mcongressionaldistrict\u001b[0m\n",
      "\u001b[1mStateSenatorialDistrict\u001b[0m -> \u001b[1mstatesenatorialdistrict\u001b[0m\n",
      "\u001b[1mLicenseIssuedDate\u001b[0m -> \u001b[1mlicenseissueddate\u001b[0m\n",
      "\u001b[1mLicenseExpiredDate\u001b[0m -> \u001b[1mlicenseexpireddate\u001b[0m\n",
      "Table successfully written to CARTO: https://michellemho-carto.carto.com/dataset/dog_licenses\n"
     ]
    }
   ],
   "source": [
    "cc.write(dog_licenses, \"dog_licenses\")"
   ]
  },
  {
   "cell_type": "code",
   "execution_count": 13,
   "metadata": {},
   "outputs": [
    {
     "data": {
      "text/html": [
       "<div>\n",
       "<style scoped>\n",
       "    .dataframe tbody tr th:only-of-type {\n",
       "        vertical-align: middle;\n",
       "    }\n",
       "\n",
       "    .dataframe tbody tr th {\n",
       "        vertical-align: top;\n",
       "    }\n",
       "\n",
       "    .dataframe thead th {\n",
       "        text-align: right;\n",
       "    }\n",
       "</style>\n",
       "<table border=\"1\" class=\"dataframe\">\n",
       "  <thead>\n",
       "    <tr style=\"text-align: right;\">\n",
       "      <th></th>\n",
       "    </tr>\n",
       "  </thead>\n",
       "  <tbody>\n",
       "  </tbody>\n",
       "</table>\n",
       "</div>"
      ],
      "text/plain": [
       "Empty DataFrame\n",
       "Columns: []\n",
       "Index: []"
      ]
     },
     "execution_count": 13,
     "metadata": {},
     "output_type": "execute_result"
    }
   ],
   "source": [
    "cc.query(\"\"\"\n",
    "ALTER TABLE dog_licenses ALTER COLUMN licenseissueddate TYPE DATE \n",
    "using to_date(licenseissueddate, 'MM/DD/YYYY');\n",
    "\"\"\")"
   ]
  },
  {
   "cell_type": "code",
   "execution_count": 16,
   "metadata": {},
   "outputs": [
    {
     "name": "stdout",
     "output_type": "stream",
     "text": [
      "Table successfully written to CARTO: https://michellemho-carto.carto.com/dataset/dog_licenses_2017\n"
     ]
    },
    {
     "data": {
      "text/html": [
       "<div>\n",
       "<style scoped>\n",
       "    .dataframe tbody tr th:only-of-type {\n",
       "        vertical-align: middle;\n",
       "    }\n",
       "\n",
       "    .dataframe tbody tr th {\n",
       "        vertical-align: top;\n",
       "    }\n",
       "\n",
       "    .dataframe thead th {\n",
       "        text-align: right;\n",
       "    }\n",
       "</style>\n",
       "<table border=\"1\" class=\"dataframe\">\n",
       "  <thead>\n",
       "    <tr style=\"text-align: right;\">\n",
       "      <th></th>\n",
       "      <th>rownumber</th>\n",
       "      <th>statesenatorialdistrict</th>\n",
       "      <th>citycouncildistrict</th>\n",
       "      <th>borough</th>\n",
       "      <th>the_geom</th>\n",
       "      <th>animalgender</th>\n",
       "      <th>animalbirthmonth</th>\n",
       "      <th>licenseexpireddate</th>\n",
       "      <th>zipcode</th>\n",
       "      <th>nta</th>\n",
       "      <th>animalname</th>\n",
       "      <th>communitydistrict</th>\n",
       "      <th>breedname</th>\n",
       "      <th>congressionaldistrict</th>\n",
       "      <th>licenseissueddate</th>\n",
       "      <th>censustract2010</th>\n",
       "    </tr>\n",
       "  </thead>\n",
       "  <tbody>\n",
       "  </tbody>\n",
       "</table>\n",
       "</div>"
      ],
      "text/plain": [
       "Empty DataFrame\n",
       "Columns: [rownumber, statesenatorialdistrict, citycouncildistrict, borough, the_geom, animalgender, animalbirthmonth, licenseexpireddate, zipcode, nta, animalname, communitydistrict, breedname, congressionaldistrict, licenseissueddate, censustract2010]\n",
       "Index: []"
      ]
     },
     "execution_count": 16,
     "metadata": {},
     "output_type": "execute_result"
    }
   ],
   "source": [
    "# Just 2017\n",
    "cc.query(\"\"\"\n",
    "SELECT * FROM dog_licenses\n",
    "WHERE licenseissueddate >= '01/01/2017'::date\n",
    "\"\"\", table_name='dog_licenses_2017')"
   ]
  },
  {
   "cell_type": "code",
   "execution_count": 17,
   "metadata": {
    "collapsed": true
   },
   "outputs": [],
   "source": [
    "# Count by breed\n",
    "count_by_breed = cc.query(\"\"\"\n",
    "SELECT row_number() OVER () As cartodb_id,\n",
    "BreedName, count(*), nynta_2.ntacode, nynta_2.the_geom, nynta_2.the_geom_webmercator\n",
    "FROM dog_licenses\n",
    "JOIN nynta_2\n",
    "ON (dog_licenses.nta = nynta_2.ntacode)\n",
    "GROUP BY BreedName, nynta_2.ntacode, nynta_2.the_geom, nynta_2.the_geom_webmercator\n",
    "\"\"\")"
   ]
  },
  {
   "cell_type": "code",
   "execution_count": 18,
   "metadata": {
    "scrolled": true
   },
   "outputs": [
    {
     "data": {
      "text/html": [
       "<div>\n",
       "<style scoped>\n",
       "    .dataframe tbody tr th:only-of-type {\n",
       "        vertical-align: middle;\n",
       "    }\n",
       "\n",
       "    .dataframe tbody tr th {\n",
       "        vertical-align: top;\n",
       "    }\n",
       "\n",
       "    .dataframe thead th {\n",
       "        text-align: right;\n",
       "    }\n",
       "</style>\n",
       "<table border=\"1\" class=\"dataframe\">\n",
       "  <thead>\n",
       "    <tr style=\"text-align: right;\">\n",
       "      <th></th>\n",
       "      <th>breedname</th>\n",
       "      <th>count</th>\n",
       "      <th>ntacode</th>\n",
       "      <th>the_geom</th>\n",
       "    </tr>\n",
       "    <tr>\n",
       "      <th>cartodb_id</th>\n",
       "      <th></th>\n",
       "      <th></th>\n",
       "      <th></th>\n",
       "      <th></th>\n",
       "    </tr>\n",
       "  </thead>\n",
       "  <tbody>\n",
       "    <tr>\n",
       "      <th>1</th>\n",
       "      <td>Affenpinscher</td>\n",
       "      <td>1</td>\n",
       "      <td>BK35</td>\n",
       "      <td>0106000020E610000001000000010300000001000000AE...</td>\n",
       "    </tr>\n",
       "    <tr>\n",
       "      <th>2</th>\n",
       "      <td>Affenpinscher</td>\n",
       "      <td>1</td>\n",
       "      <td>BK37</td>\n",
       "      <td>0106000020E610000001000000010300000001000000C9...</td>\n",
       "    </tr>\n",
       "    <tr>\n",
       "      <th>3</th>\n",
       "      <td>Affenpinscher</td>\n",
       "      <td>1</td>\n",
       "      <td>BK42</td>\n",
       "      <td>0106000020E61000000100000001030000000100000093...</td>\n",
       "    </tr>\n",
       "    <tr>\n",
       "      <th>4</th>\n",
       "      <td>Affenpinscher</td>\n",
       "      <td>1</td>\n",
       "      <td>BK44</td>\n",
       "      <td>0106000020E6100000010000000103000000010000005B...</td>\n",
       "    </tr>\n",
       "    <tr>\n",
       "      <th>5</th>\n",
       "      <td>Affenpinscher</td>\n",
       "      <td>2</td>\n",
       "      <td>BK61</td>\n",
       "      <td>0106000020E61000000100000001030000000100000087...</td>\n",
       "    </tr>\n",
       "  </tbody>\n",
       "</table>\n",
       "</div>"
      ],
      "text/plain": [
       "                breedname  count ntacode  \\\n",
       "cartodb_id                                 \n",
       "1           Affenpinscher      1    BK35   \n",
       "2           Affenpinscher      1    BK37   \n",
       "3           Affenpinscher      1    BK42   \n",
       "4           Affenpinscher      1    BK44   \n",
       "5           Affenpinscher      2    BK61   \n",
       "\n",
       "                                                     the_geom  \n",
       "cartodb_id                                                     \n",
       "1           0106000020E610000001000000010300000001000000AE...  \n",
       "2           0106000020E610000001000000010300000001000000C9...  \n",
       "3           0106000020E61000000100000001030000000100000093...  \n",
       "4           0106000020E6100000010000000103000000010000005B...  \n",
       "5           0106000020E61000000100000001030000000100000087...  "
      ]
     },
     "execution_count": 18,
     "metadata": {},
     "output_type": "execute_result"
    }
   ],
   "source": [
    "count_by_breed.head()"
   ]
  },
  {
   "cell_type": "code",
   "execution_count": 36,
   "metadata": {},
   "outputs": [],
   "source": [
    "count_by_breed.drop('the_geom', axis=1).to_csv('count_by_breed_by_nta.csv')"
   ]
  },
  {
   "cell_type": "code",
   "execution_count": 21,
   "metadata": {},
   "outputs": [
    {
     "data": {
      "text/html": [
       "<div>\n",
       "<style scoped>\n",
       "    .dataframe tbody tr th:only-of-type {\n",
       "        vertical-align: middle;\n",
       "    }\n",
       "\n",
       "    .dataframe tbody tr th {\n",
       "        vertical-align: top;\n",
       "    }\n",
       "\n",
       "    .dataframe thead th {\n",
       "        text-align: right;\n",
       "    }\n",
       "</style>\n",
       "<table border=\"1\" class=\"dataframe\">\n",
       "  <thead>\n",
       "    <tr style=\"text-align: right;\">\n",
       "      <th></th>\n",
       "      <th>animalname</th>\n",
       "      <th>count</th>\n",
       "    </tr>\n",
       "  </thead>\n",
       "  <tbody>\n",
       "    <tr>\n",
       "      <th>0</th>\n",
       "      <td>UNKNOWN</td>\n",
       "      <td>2467</td>\n",
       "    </tr>\n",
       "    <tr>\n",
       "      <th>1</th>\n",
       "      <td>NAME NOT PROVIDED</td>\n",
       "      <td>1764</td>\n",
       "    </tr>\n",
       "    <tr>\n",
       "      <th>2</th>\n",
       "      <td>BELLA</td>\n",
       "      <td>1008</td>\n",
       "    </tr>\n",
       "    <tr>\n",
       "      <th>3</th>\n",
       "      <td>MAX</td>\n",
       "      <td>1001</td>\n",
       "    </tr>\n",
       "    <tr>\n",
       "      <th>4</th>\n",
       "      <td>CHARLIE</td>\n",
       "      <td>750</td>\n",
       "    </tr>\n",
       "    <tr>\n",
       "      <th>5</th>\n",
       "      <td>LOLA</td>\n",
       "      <td>686</td>\n",
       "    </tr>\n",
       "    <tr>\n",
       "      <th>6</th>\n",
       "      <td>ROCKY</td>\n",
       "      <td>668</td>\n",
       "    </tr>\n",
       "    <tr>\n",
       "      <th>7</th>\n",
       "      <td>COCO</td>\n",
       "      <td>642</td>\n",
       "    </tr>\n",
       "    <tr>\n",
       "      <th>8</th>\n",
       "      <td>LUCY</td>\n",
       "      <td>581</td>\n",
       "    </tr>\n",
       "    <tr>\n",
       "      <th>9</th>\n",
       "      <td>BUDDY</td>\n",
       "      <td>559</td>\n",
       "    </tr>\n",
       "    <tr>\n",
       "      <th>10</th>\n",
       "      <td>LUCKY</td>\n",
       "      <td>551</td>\n",
       "    </tr>\n",
       "    <tr>\n",
       "      <th>11</th>\n",
       "      <td>DAISY</td>\n",
       "      <td>507</td>\n",
       "    </tr>\n",
       "  </tbody>\n",
       "</table>\n",
       "</div>"
      ],
      "text/plain": [
       "           animalname  count\n",
       "0             UNKNOWN   2467\n",
       "1   NAME NOT PROVIDED   1764\n",
       "2               BELLA   1008\n",
       "3                 MAX   1001\n",
       "4             CHARLIE    750\n",
       "5                LOLA    686\n",
       "6               ROCKY    668\n",
       "7                COCO    642\n",
       "8                LUCY    581\n",
       "9               BUDDY    559\n",
       "10              LUCKY    551\n",
       "11              DAISY    507"
      ]
     },
     "execution_count": 21,
     "metadata": {},
     "output_type": "execute_result"
    }
   ],
   "source": [
    "# Top 10 Dog Names (all of NYC)\n",
    "\n",
    "top_dog_names = cc.query(\"\"\"\n",
    "SELECT animalname, count(*)\n",
    "FROM dog_licenses\n",
    "GROUP BY animalname\n",
    "ORDER BY count desc\"\"\")\n",
    "\n",
    "top_dog_names[:12]"
   ]
  },
  {
   "cell_type": "code",
   "execution_count": 26,
   "metadata": {},
   "outputs": [
    {
     "name": "stdout",
     "output_type": "stream",
     "text": [
      "Table successfully written to CARTO: https://michellemho-carto.carto.com/dataset/dog_name_count_by_nta\n"
     ]
    }
   ],
   "source": [
    "# Count of Dog Names by Neighborhood\n",
    "\n",
    "count_by_name = cc.query(\"\"\"\n",
    "SELECT row_number() OVER () As cartodb_id,\n",
    "animalname, count(*), nynta_2.ntacode\n",
    "FROM dog_licenses\n",
    "JOIN nynta_2\n",
    "ON (dog_licenses.nta = nynta_2.ntacode)\n",
    "WHERE animalname <> 'UNKNOWN'\n",
    "AND animalname <> ''\n",
    "AND animalname <> 'NAME NOT PROVIDED'\n",
    "GROUP BY animalname, nynta_2.ntacode\n",
    "ORDER BY count desc\n",
    "\"\"\", table_name='dog_name_count_by_nta')"
   ]
  },
  {
   "cell_type": "code",
   "execution_count": 29,
   "metadata": {},
   "outputs": [],
   "source": [
    "top_10_names_by_nta = cc.query(\"\"\"SELECT\n",
    "  * \n",
    "FROM (\n",
    "  SELECT\n",
    "    ROW_NUMBER() OVER (PARTITION BY ntacode ORDER BY count desc) AS r,\n",
    "    t.*\n",
    "  FROM\n",
    "    dog_name_count_by_nta t) x\n",
    "WHERE\n",
    "  x.r <= 10\"\"\")"
   ]
  },
  {
   "cell_type": "code",
   "execution_count": 31,
   "metadata": {},
   "outputs": [],
   "source": [
    "# Top Dog Names by Neighborhood\n",
    "top_10_names_by_nta.to_csv('top_10_dognames_by_nta.csv')"
   ]
  },
  {
   "cell_type": "code",
   "execution_count": 43,
   "metadata": {
    "collapsed": true
   },
   "outputs": [],
   "source": [
    "# Total number of dog licenses per neighborhood\n",
    "count_licenses_by_nta = dog_licenses.groupby('NTA')['AnimalName'].count()\n",
    "count_licenses_by_nta.to_csv('count_licenses_by_nta.csv')"
   ]
  },
  {
   "cell_type": "code",
   "execution_count": null,
   "metadata": {
    "collapsed": true
   },
   "outputs": [],
   "source": [
    "# Total number of licenses as a percentage of population per neighborhood\n",
    "nynta_pop = pd.read_excel('../nta_data/demo_2016acs5yr_nta.xlsx')\n",
    "count_licenses_by_nta = pd.DataFrame(count_licenses_by_nta)\n",
    "count_licenses_by_nta.columns = ['doglicense_count']\n",
    "pop_and_dogs = nynta_pop.join(count_licenses_by_nta, on = 'GeoID')\n",
    "\n",
    "pop_and_dogs['doglicenses_per_person'] = pop_and_dogs['doglicense_count']/pop_and_dogs['Pop_1E']\n",
    "\n",
    "doglicenses_per_person = pop_and_dogs[['doglicense_count','doglicenses_per_person','GeoID']]\n",
    "doglicenses_per_person.to_csv('doglicenses_per_person.csv')"
   ]
  }
 ],
 "metadata": {
  "kernelspec": {
   "display_name": "Python 3",
   "language": "python",
   "name": "python3"
  }
 },
 "nbformat": 4,
 "nbformat_minor": 2
}
