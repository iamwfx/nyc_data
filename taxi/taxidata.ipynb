{
 "cells": [
  {
   "cell_type": "code",
   "execution_count": 53,
   "metadata": {},
   "outputs": [],
   "source": [
    "import random\n",
    "import numpy as np \n",
    "import pandas as pd\n",
    "import geopandas as gpd\n",
    "\n",
    "import matplotlib.pyplot as plt\n",
    "from matplotlib import cm\n",
    "import matplotlib\n",
    "\n",
    "from shapely.geometry import Point\n",
    "%matplotlib inline\n"
   ]
  },
  {
   "cell_type": "markdown",
   "metadata": {},
   "source": [
    "Get taxi URL"
   ]
  },
  {
   "cell_type": "code",
   "execution_count": 7,
   "metadata": {},
   "outputs": [],
   "source": [
    "# download_url = \"https://s3.amazonaws.com/nyc-tlc/trip+data/{color}_tripdata_\"\\\n",
    "#                \"{year}-{month}.csv\"\n"
   ]
  },
  {
   "cell_type": "code",
   "execution_count": 20,
   "metadata": {},
   "outputs": [],
   "source": [
    "years = [2009,2010,2011,2012,2013,2014,2015,2016]\n",
    "colors = ['yellow','green']\n",
    "months= ['05']"
   ]
  },
  {
   "cell_type": "code",
   "execution_count": 21,
   "metadata": {},
   "outputs": [
    {
     "data": {
      "text/plain": [
       "'https://s3.amazonaws.com/nyc-tlc/trip+data/green_tripdata_2016-05.csv'"
      ]
     },
     "execution_count": 21,
     "metadata": {},
     "output_type": "execute_result"
    }
   ],
   "source": [
    "download_url.format(color='green',year='2016',month='05')"
   ]
  },
  {
   "cell_type": "code",
   "execution_count": 25,
   "metadata": {},
   "outputs": [],
   "source": [
    "# df = pd.read_csv(download_url.format(color='green',year='2016',month='05'),nrows=100)"
   ]
  },
  {
   "cell_type": "code",
   "execution_count": 46,
   "metadata": {},
   "outputs": [],
   "source": [
    "p = 0.1\n",
    "green_cab = pd.read_csv('green_tripdata_2016-05.csv',skiprows=lambda i: i>0 and random.random() > p)"
   ]
  },
  {
   "cell_type": "code",
   "execution_count": 63,
   "metadata": {},
   "outputs": [],
   "source": [
    "p = 0.05\n",
    "yellow_cab = pd.read_csv('yellow_tripdata_2016-05.csv',skiprows=lambda i: i>0 and random.random() > p)"
   ]
  },
  {
   "cell_type": "code",
   "execution_count": 49,
   "metadata": {},
   "outputs": [],
   "source": [
    "for y in years[:-1]:\n",
    "    try: \n",
    "        df = pd.read_csv('green_tripdata_{}-05.csv'.format(y),skiprows=lambda i: i>0 and random.random() > p)\n",
    "        green_cab = pd.concat([green_cab,df])\n",
    "    except FileNotFoundError: \n",
    "        pass"
   ]
  },
  {
   "cell_type": "code",
   "execution_count": 64,
   "metadata": {},
   "outputs": [
    {
     "name": "stderr",
     "output_type": "stream",
     "text": [
      "/Users/wenfeixu/anaconda2/envs/geo_wenfei/lib/python3.6/site-packages/IPython/core/interactiveshell.py:2728: DtypeWarning: Columns (8) have mixed types. Specify dtype option on import or set low_memory=False.\n",
      "  interactivity=interactivity, compiler=compiler, result=result)\n"
     ]
    }
   ],
   "source": [
    "for y in years[:-1]:\n",
    "    try: \n",
    "        df = pd.read_csv('yellow_tripdata_{}-05.csv'.format(y),skiprows=lambda i: i>0 and random.random() > p)\n",
    "        yellow_cab = pd.concat([yellow_cab,df])\n",
    "    except FileNotFoundError: \n",
    "        pass"
   ]
  },
  {
   "cell_type": "code",
   "execution_count": 61,
   "metadata": {},
   "outputs": [],
   "source": [
    "green_cab_pickup = gpd.GeoDataFrame(green_cab,\n",
    "                                    geometry=[Point(x,y) for x,y in zip(green_cab['Pickup_longitude'],\n",
    "                                                                       green_cab['Pickup_latitude'])],\n",
    "                                   crs={'init':'epsg:4326'})\n",
    "\n",
    "green_cab_dropoff = gpd.GeoDataFrame(green_cab,\n",
    "                                    geometry=[Point(x,y) for x,y in zip(green_cab['Dropoff_longitude'],\n",
    "                                                                       green_cab['Dropoff_latitude'])],\n",
    "                                   crs={'init':'epsg:4326'})"
   ]
  },
  {
   "cell_type": "code",
   "execution_count": 72,
   "metadata": {},
   "outputs": [],
   "source": [
    "yellow_cab = yellow_cab.sample(1000000)"
   ]
  },
  {
   "cell_type": "code",
   "execution_count": 73,
   "metadata": {},
   "outputs": [],
   "source": [
    "yellow_cab_pickup = gpd.GeoDataFrame(yellow_cab,\n",
    "                                    geometry=[Point(x,y) for x,y in zip(yellow_cab['pickup_longitude'],\n",
    "                                                                       yellow_cab['pickup_latitude'])],\n",
    "                                   crs={'init':'epsg:4326'})\n",
    "\n",
    "yellow_cab_dropoff = gpd.GeoDataFrame(yellow_cab,\n",
    "                                    geometry=[Point(x,y) for x,y in zip(yellow_cab['dropoff_longitude'],\n",
    "                                                                       yellow_cab['dropoff_latitude'])],\n",
    "                                   crs={'init':'epsg:4326'})"
   ]
  },
  {
   "cell_type": "code",
   "execution_count": 74,
   "metadata": {},
   "outputs": [
    {
     "name": "stderr",
     "output_type": "stream",
     "text": [
      "/Users/wenfeixu/anaconda2/envs/geo_wenfei/lib/python3.6/site-packages/carto/resources.py:90: FutureWarning: This is part of a non-public CARTO API and may change in the future. Take this into account if you are using this in a production environment\n",
      "  warnings.warn('This is part of a non-public CARTO API and may change in the future. Take this into account if you are using this in a production environment', FutureWarning)\n"
     ]
    },
    {
     "name": "stdout",
     "output_type": "stream",
     "text": [
      "The following columns were changed in the CARTO copy of this dataframe:\n",
      "\u001b[1m dropoff_datetime\u001b[0m -> \u001b[1m_dropoff_datetime\u001b[0m\n",
      "\u001b[1m dropoff_latitude\u001b[0m -> \u001b[1m_dropoff_latitude\u001b[0m\n",
      "\u001b[1m dropoff_longitude\u001b[0m -> \u001b[1m_dropoff_longitude\u001b[0m\n",
      "\u001b[1m fare_amount\u001b[0m -> \u001b[1m_fare_amount\u001b[0m\n",
      "\u001b[1m mta_tax\u001b[0m -> \u001b[1m_mta_tax\u001b[0m\n",
      "\u001b[1m passenger_count\u001b[0m -> \u001b[1m_passenger_count\u001b[0m\n",
      "\u001b[1m payment_type\u001b[0m -> \u001b[1m_payment_type\u001b[0m\n",
      "\u001b[1m pickup_datetime\u001b[0m -> \u001b[1m_pickup_datetime\u001b[0m\n",
      "\u001b[1m pickup_latitude\u001b[0m -> \u001b[1m_pickup_latitude\u001b[0m\n",
      "\u001b[1m pickup_longitude\u001b[0m -> \u001b[1m_pickup_longitude\u001b[0m\n",
      "\u001b[1m rate_code\u001b[0m -> \u001b[1m_rate_code\u001b[0m\n",
      "\u001b[1m store_and_fwd_flag\u001b[0m -> \u001b[1m_store_and_fwd_flag\u001b[0m\n",
      "\u001b[1m surcharge\u001b[0m -> \u001b[1m_surcharge\u001b[0m\n",
      "\u001b[1m tip_amount\u001b[0m -> \u001b[1m_tip_amount\u001b[0m\n",
      "\u001b[1m tolls_amount\u001b[0m -> \u001b[1m_tolls_amount\u001b[0m\n",
      "\u001b[1m total_amount\u001b[0m -> \u001b[1m_total_amount\u001b[0m\n",
      "\u001b[1m trip_distance\u001b[0m -> \u001b[1m_trip_distance\u001b[0m\n",
      "\u001b[1mEnd_Lat\u001b[0m -> \u001b[1mend_lat\u001b[0m\n",
      "\u001b[1mEnd_Lon\u001b[0m -> \u001b[1mend_lon\u001b[0m\n",
      "\u001b[1mFare_Amt\u001b[0m -> \u001b[1mfare_amt\u001b[0m\n",
      "\u001b[1mPassenger_Count\u001b[0m -> \u001b[1mpassenger_count\u001b[0m\n",
      "\u001b[1mPayment_Type\u001b[0m -> \u001b[1mpayment_type\u001b[0m\n",
      "\u001b[1mRateCodeID\u001b[0m -> \u001b[1mratecodeid\u001b[0m\n",
      "\u001b[1mRate_Code\u001b[0m -> \u001b[1mrate_code\u001b[0m\n",
      "\u001b[1mRatecodeID\u001b[0m -> \u001b[1mratecodeid\u001b[0m\n",
      "\u001b[1mStart_Lat\u001b[0m -> \u001b[1mstart_lat\u001b[0m\n",
      "\u001b[1mStart_Lon\u001b[0m -> \u001b[1mstart_lon\u001b[0m\n",
      "\u001b[1mTip_Amt\u001b[0m -> \u001b[1mtip_amt\u001b[0m\n",
      "\u001b[1mTolls_Amt\u001b[0m -> \u001b[1mtolls_amt\u001b[0m\n",
      "\u001b[1mTotal_Amt\u001b[0m -> \u001b[1mtotal_amt\u001b[0m\n",
      "\u001b[1mTrip_Distance\u001b[0m -> \u001b[1mtrip_distance\u001b[0m\n",
      "\u001b[1mTrip_Dropoff_DateTime\u001b[0m -> \u001b[1mtrip_dropoff_datetime\u001b[0m\n",
      "\u001b[1mTrip_Pickup_DateTime\u001b[0m -> \u001b[1mtrip_pickup_datetime\u001b[0m\n",
      "\u001b[1mVendorID\u001b[0m -> \u001b[1mvendorid\u001b[0m\n"
     ]
    },
    {
     "name": "stderr",
     "output_type": "stream",
     "text": [
      "Uploading in batches: 100%|██████████| 3/3 [10:32<00:00, 210.71s/it]\n",
      "/Users/wenfeixu/anaconda2/envs/geo_wenfei/lib/python3.6/site-packages/cartoframes/context.py:1957: UserWarning: Job failed: column \"geometry\" does not exist\n",
      "  warn('Job failed: {}'.format(resp.get('failed_reason')))\n"
     ]
    },
    {
     "name": "stdout",
     "output_type": "stream",
     "text": [
      "Table successfully written to CARTO: https://wxu-carto.carto.com/dataset/yellow_cab_pickup\n",
      "The following columns were changed in the CARTO copy of this dataframe:\n",
      "\u001b[1m dropoff_datetime\u001b[0m -> \u001b[1m_dropoff_datetime\u001b[0m\n",
      "\u001b[1m dropoff_latitude\u001b[0m -> \u001b[1m_dropoff_latitude\u001b[0m\n",
      "\u001b[1m dropoff_longitude\u001b[0m -> \u001b[1m_dropoff_longitude\u001b[0m\n",
      "\u001b[1m fare_amount\u001b[0m -> \u001b[1m_fare_amount\u001b[0m\n",
      "\u001b[1m mta_tax\u001b[0m -> \u001b[1m_mta_tax\u001b[0m\n",
      "\u001b[1m passenger_count\u001b[0m -> \u001b[1m_passenger_count\u001b[0m\n",
      "\u001b[1m payment_type\u001b[0m -> \u001b[1m_payment_type\u001b[0m\n",
      "\u001b[1m pickup_datetime\u001b[0m -> \u001b[1m_pickup_datetime\u001b[0m\n",
      "\u001b[1m pickup_latitude\u001b[0m -> \u001b[1m_pickup_latitude\u001b[0m\n",
      "\u001b[1m pickup_longitude\u001b[0m -> \u001b[1m_pickup_longitude\u001b[0m\n",
      "\u001b[1m rate_code\u001b[0m -> \u001b[1m_rate_code\u001b[0m\n",
      "\u001b[1m store_and_fwd_flag\u001b[0m -> \u001b[1m_store_and_fwd_flag\u001b[0m\n",
      "\u001b[1m surcharge\u001b[0m -> \u001b[1m_surcharge\u001b[0m\n",
      "\u001b[1m tip_amount\u001b[0m -> \u001b[1m_tip_amount\u001b[0m\n",
      "\u001b[1m tolls_amount\u001b[0m -> \u001b[1m_tolls_amount\u001b[0m\n",
      "\u001b[1m total_amount\u001b[0m -> \u001b[1m_total_amount\u001b[0m\n",
      "\u001b[1m trip_distance\u001b[0m -> \u001b[1m_trip_distance\u001b[0m\n",
      "\u001b[1mEnd_Lat\u001b[0m -> \u001b[1mend_lat\u001b[0m\n",
      "\u001b[1mEnd_Lon\u001b[0m -> \u001b[1mend_lon\u001b[0m\n",
      "\u001b[1mFare_Amt\u001b[0m -> \u001b[1mfare_amt\u001b[0m\n",
      "\u001b[1mPassenger_Count\u001b[0m -> \u001b[1mpassenger_count\u001b[0m\n",
      "\u001b[1mPayment_Type\u001b[0m -> \u001b[1mpayment_type\u001b[0m\n",
      "\u001b[1mRateCodeID\u001b[0m -> \u001b[1mratecodeid\u001b[0m\n",
      "\u001b[1mRate_Code\u001b[0m -> \u001b[1mrate_code\u001b[0m\n",
      "\u001b[1mRatecodeID\u001b[0m -> \u001b[1mratecodeid\u001b[0m\n",
      "\u001b[1mStart_Lat\u001b[0m -> \u001b[1mstart_lat\u001b[0m\n",
      "\u001b[1mStart_Lon\u001b[0m -> \u001b[1mstart_lon\u001b[0m\n",
      "\u001b[1mTip_Amt\u001b[0m -> \u001b[1mtip_amt\u001b[0m\n",
      "\u001b[1mTolls_Amt\u001b[0m -> \u001b[1mtolls_amt\u001b[0m\n",
      "\u001b[1mTotal_Amt\u001b[0m -> \u001b[1mtotal_amt\u001b[0m\n",
      "\u001b[1mTrip_Distance\u001b[0m -> \u001b[1mtrip_distance\u001b[0m\n",
      "\u001b[1mTrip_Dropoff_DateTime\u001b[0m -> \u001b[1mtrip_dropoff_datetime\u001b[0m\n",
      "\u001b[1mTrip_Pickup_DateTime\u001b[0m -> \u001b[1mtrip_pickup_datetime\u001b[0m\n",
      "\u001b[1mVendorID\u001b[0m -> \u001b[1mvendorid\u001b[0m\n"
     ]
    },
    {
     "name": "stderr",
     "output_type": "stream",
     "text": [
      "Uploading in batches: 100%|██████████| 3/3 [10:20<00:00, 206.77s/it]"
     ]
    },
    {
     "name": "stdout",
     "output_type": "stream",
     "text": [
      "Table successfully written to CARTO: https://wxu-carto.carto.com/dataset/yellow_cab_dropoff\n"
     ]
    },
    {
     "name": "stderr",
     "output_type": "stream",
     "text": [
      "\n"
     ]
    }
   ],
   "source": [
    "import cartoframes\n",
    "cc = cartoframes.CartoContext()\n",
    "# cc.write(green_cab_pickup,'green_cab_pickup',overwrite=True)\n",
    "# cc.write(green_cab_dropoff,'green_cab_dropoff',overwrite=True)\n",
    "\n",
    "\n",
    "cc.write(yellow_cab_pickup,'yellow_cab_pickup',overwrite=True)\n",
    "cc.write(yellow_cab_dropoff,'yellow_cab_dropoff',overwrite=True)\n"
   ]
  },
  {
   "cell_type": "code",
   "execution_count": null,
   "metadata": {},
   "outputs": [],
   "source": []
  }
 ],
 "metadata": {
  "kernelspec": {
   "display_name": "Python 3",
   "language": "python",
   "name": "python3"
  },
  "language_info": {
   "codemirror_mode": {
    "name": "ipython",
    "version": 3
   },
   "file_extension": ".py",
   "mimetype": "text/x-python",
   "name": "python",
   "nbconvert_exporter": "python",
   "pygments_lexer": "ipython3",
   "version": "3.6.1"
  }
 },
 "nbformat": 4,
 "nbformat_minor": 2
}
