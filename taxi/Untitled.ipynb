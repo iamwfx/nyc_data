{
 "cells": [
  {
   "cell_type": "code",
   "execution_count": 1,
   "metadata": {
    "collapsed": true
   },
   "outputs": [],
   "source": [
    "import csv\n",
    "import pandas as pd\n",
    "import matplotlib.pyplot as plt\n",
    "import numpy as np\n",
    "from shapely.geometry import Polygon, Point, shape\n",
    "from rtree import index\n",
    "import fiona\n",
    "import geopandas as gpd"
   ]
  },
  {
   "cell_type": "code",
   "execution_count": 5,
   "metadata": {},
   "outputs": [],
   "source": [
    "taxi_zone_shapefile = gpd.read_file(\"taxi_zones/taxi_zones.shp\")\n",
    "taxi_zones = list(taxi_zone_shapefile.geometry)\n"
   ]
  },
  {
   "cell_type": "code",
   "execution_count": 8,
   "metadata": {},
   "outputs": [],
   "source": [
    "#fix this later\n",
    "taxi_data = pd.read_csv('tmp/taxi_yellow.2015-05-01.csv/yellow_tripdata_2015-05.csv',  nrows=20)\n",
    "points = [Point(xy) for xy in zip(taxi_data.pickup_longitude, taxi_data.pickup_latitude)]"
   ]
  },
  {
   "cell_type": "code",
   "execution_count": 23,
   "metadata": {},
   "outputs": [
    {
     "data": {
      "text/plain": [
       "(-73.9889144897461, 40.718971252441406)"
      ]
     },
     "execution_count": 23,
     "metadata": {},
     "output_type": "execute_result"
    }
   ],
   "source": [
    "point.coords[0]"
   ]
  },
  {
   "cell_type": "code",
   "execution_count": 27,
   "metadata": {},
   "outputs": [
    {
     "data": {
      "text/plain": [
       "-73.9889144897461"
      ]
     },
     "execution_count": 27,
     "metadata": {},
     "output_type": "execute_result"
    }
   ],
   "source": [
    "points[-1].x"
   ]
  },
  {
   "cell_type": "code",
   "execution_count": null,
   "metadata": {
    "collapsed": true
   },
   "outputs": [],
   "source": []
  },
  {
   "cell_type": "code",
   "execution_count": 13,
   "metadata": {
    "collapsed": true
   },
   "outputs": [],
   "source": [
    "# Populate R-tree index with bounds of polygons\n",
    "idx = index.Index()\n",
    "for pos, poly in enumerate(taxi_zones):\n",
    "    idx.insert(pos, poly.bounds)\n",
    "# Query each point to see which polygon it is in\n",
    "# using first Rtree index, then Shapely geometry's within\n",
    "for point in points:\n",
    "    poly_idx = [i for i in idx.intersection((point.coords[0]))\n",
    "                if point.within(taxi_zones[i])]\n",
    "    for num, idx in enumerate(poly_idx, 1):\n",
    "        print(\"%d:%d:%s\" % (num, idx, taxi_zones[idx]))"
   ]
  },
  {
   "cell_type": "code",
   "execution_count": 28,
   "metadata": {},
   "outputs": [
    {
     "data": {
      "text/plain": [
       "[]"
      ]
     },
     "execution_count": 28,
     "metadata": {},
     "output_type": "execute_result"
    }
   ],
   "source": [
    "poly_idx"
   ]
  },
  {
   "cell_type": "code",
   "execution_count": 30,
   "metadata": {},
   "outputs": [
    {
     "data": {
      "text/plain": [
       "<generator object Index._get_ids at 0x131e0cd58>"
      ]
     },
     "execution_count": 30,
     "metadata": {},
     "output_type": "execute_result"
    }
   ],
   "source": [
    "idx.intersection((-74.00167846679686, 40.73931121826172))"
   ]
  },
  {
   "cell_type": "code",
   "execution_count": 29,
   "metadata": {},
   "outputs": [
    {
     "name": "stdout",
     "output_type": "stream",
     "text": [
      "(-74.00167846679686, 40.73931121826172)\n",
      "(-73.93083953857422, 40.744789123535156)\n",
      "(-74.0014114379883, 40.73108673095703)\n",
      "(-73.97067260742188, 40.75856018066406)\n",
      "(-73.98673248291014, 40.75587844848633)\n",
      "(-73.98932647705078, 40.75659942626953)\n",
      "(-73.9555435180664, 40.776721954345696)\n",
      "(-73.99221038818358, 40.72918701171875)\n",
      "(-73.9877395629883, 40.74085998535156)\n",
      "(-73.98799896240234, 40.743995666503906)\n",
      "(-73.97103881835938, 40.75793838500977)\n",
      "(-73.97806549072266, 40.72515869140625)\n",
      "(-73.97650146484375, 40.74988555908203)\n",
      "(-73.95781707763672, 40.71780014038085)\n",
      "(-73.96894836425781, 40.79884719848633)\n",
      "(-73.9881134033203, 40.73214340209961)\n",
      "(0.0, 0.0)\n",
      "(0.0, 0.0)\n",
      "(-73.97169494628906, 40.75455093383789)\n",
      "(-73.9889144897461, 40.718971252441406)\n"
     ]
    }
   ],
   "source": [
    "for point in points:\n",
    "    print(point.coords[0])"
   ]
  },
  {
   "cell_type": "code",
   "execution_count": null,
   "metadata": {
    "collapsed": true
   },
   "outputs": [],
   "source": []
  }
 ],
 "metadata": {
  "kernelspec": {
   "display_name": "Python 3",
   "language": "python",
   "name": "python3"
  },
  "language_info": {
   "codemirror_mode": {
    "name": "ipython",
    "version": 3
   },
   "file_extension": ".py",
   "mimetype": "text/x-python",
   "name": "python",
   "nbconvert_exporter": "python",
   "pygments_lexer": "ipython3",
   "version": "3.6.1"
  }
 },
 "nbformat": 4,
 "nbformat_minor": 2
}
